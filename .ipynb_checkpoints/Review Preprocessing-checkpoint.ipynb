{
 "cells": [
  {
   "cell_type": "code",
   "execution_count": 1,
   "metadata": {
    "collapsed": true
   },
   "outputs": [],
   "source": [
    "# spark must be first found using findspark package\n",
    "import findspark\n",
    "findspark.init()"
   ]
  },
  {
   "cell_type": "code",
   "execution_count": 2,
   "metadata": {
    "collapsed": true
   },
   "outputs": [],
   "source": [
    "# establish a spark session with 50 executors\n",
    "from pyspark.sql import SparkSession\n",
    "spark = SparkSession \\\n",
    "        .builder \\\n",
    "        .master(\"yarn\") \\\n",
    "        .appName(\"testing\") \\\n",
    "        .config(\"spark.executor.instances\", \"70\") \\\n",
    "        .config(\"spark.executor.memory\",\"4g\") \\\n",
    "        .config(\"spark.driver.memory\",\"30g\") \\\n",
    "        .config(\"spark.executor.cores\",'1') \\\n",
    "        .config(\"spark.scheduler.mode\",\"FIFO\") \\\n",
    "        .getOrCreate()"
   ]
  },
  {
   "cell_type": "code",
   "execution_count": 3,
   "metadata": {
    "collapsed": true
   },
   "outputs": [],
   "source": [
    "# import the review dataset\n",
    "dataset = spark.read.json('/yelp/review.json').repartition(300).cache()"
   ]
  },
  {
   "cell_type": "code",
   "execution_count": 4,
   "metadata": {},
   "outputs": [
    {
     "name": "stdout",
     "output_type": "stream",
     "text": [
      "root\n",
      " |-- business_id: string (nullable = true)\n",
      " |-- cool: long (nullable = true)\n",
      " |-- date: string (nullable = true)\n",
      " |-- funny: long (nullable = true)\n",
      " |-- review_id: string (nullable = true)\n",
      " |-- stars: long (nullable = true)\n",
      " |-- text: string (nullable = true)\n",
      " |-- useful: long (nullable = true)\n",
      " |-- user_id: string (nullable = true)\n",
      "\n",
      "4736897\n",
      "+--------------------+----+----------+-----+--------------------+-----+--------------------+------+--------------------+\n",
      "|         business_id|cool|      date|funny|           review_id|stars|                text|useful|             user_id|\n",
      "+--------------------+----+----------+-----+--------------------+-----+--------------------+------+--------------------+\n",
      "|bn_QrUHgavXKIk_lT...|   0|2016-06-10|    0|w2dz2KDnTlH0R90zi...|    5|I needed a ride f...|     2|sD2wQrkWlQIJDJQCE...|\n",
      "|WRj8rLeJpU49wqU9E...|   2|2012-11-04|    3|aoRWVXGzobfYg0lBR...|    2|Hm.\n",
      "I guess I don...|     4|JjicSN4Fyyi40DH7h...|\n",
      "+--------------------+----+----------+-----+--------------------+-----+--------------------+------+--------------------+\n",
      "only showing top 2 rows\n",
      "\n"
     ]
    },
    {
     "data": {
      "text/plain": [
       "[Row(business_id='bn_QrUHgavXKIk_lTASErQ', cool=0, date='2016-06-10', funny=0, review_id='w2dz2KDnTlH0R90ziLughQ', stars=5, text='I needed a ride from Vegas to Tehachapi. Safe ride comfortable. Wifi worked great. Orange line. 62$ on a Saturday. Driver excellent!  Would do again to get to my daughter to visit. Little pricey but NO stress. Bus only had about 15 passengers.', useful=2, user_id='sD2wQrkWlQIJDJQCE6NffQ')]"
      ]
     },
     "execution_count": 4,
     "metadata": {},
     "output_type": "execute_result"
    }
   ],
   "source": [
    "# take a look at the dataset \n",
    "# 1) look at the schema of the data\n",
    "# 2) count the number of rows\n",
    "# 3) show a few rows of the dataset\n",
    "# 4) use the take function to look at the actual values\n",
    "dataset.printSchema()\n",
    "print(dataset.count())\n",
    "dataset.show(2)\n",
    "dataset.take(1)"
   ]
  },
  {
   "cell_type": "code",
   "execution_count": 5,
   "metadata": {
    "collapsed": true
   },
   "outputs": [],
   "source": [
    "import time\n",
    "from pyspark.ml.feature import Tokenizer, StopWordsRemover, Word2Vec\n",
    "start = time.time()\n",
    "\n",
    "# tokenize\n",
    "tokenizer = Tokenizer(inputCol=\"text\", outputCol=\"words\")\n",
    "dataset = tokenizer.transform(dataset)\n",
    "\n",
    "# drop original text column\n",
    "dataset = dataset.drop(\"text\")\n",
    "\n",
    "# Stop word removal\n",
    "stopremove = StopWordsRemover(inputCol='words',outputCol='cleaned')\n",
    "dataset = stopremove.transform(dataset)\n",
    "\n",
    "dataset = dataset.drop('words')\n",
    "\n",
    "#fit a word2vec model \n",
    "word2Vec = Word2Vec(vectorSize=30, minCount=5, numPartitions=300, inputCol=\"cleaned\", outputCol=\"word2vec\")\n",
    "model = word2Vec.fit(dataset)\n",
    "dataset = model.transform(dataset).drop('cleaned')\n",
    "\n",
    "end = time.time()"
   ]
  },
  {
   "cell_type": "code",
   "execution_count": 6,
   "metadata": {
    "collapsed": true
   },
   "outputs": [],
   "source": [
    "dataset=dataset.drop('review_id').cache()"
   ]
  },
  {
   "cell_type": "code",
   "execution_count": 7,
   "metadata": {
    "collapsed": true
   },
   "outputs": [],
   "source": [
    "from pyspark.ml.feature import PCA\n",
    "\n",
    "pca = PCA(k=3, inputCol= \"word2vec\",outputCol=\"pca_text\")\n",
    "pca_model = pca.fit(dataset)\n",
    "result = pca_model.transform(dataset).select(\"pca_text\")"
   ]
  },
  {
   "cell_type": "code",
   "execution_count": 8,
   "metadata": {},
   "outputs": [
    {
     "name": "stdout",
     "output_type": "stream",
     "text": [
      "220.94469118118286\n"
     ]
    }
   ],
   "source": [
    "print(end-start)"
   ]
  },
  {
   "cell_type": "raw",
   "metadata": {},
   "source": []
  },
  {
   "cell_type": "code",
   "execution_count": 11,
   "metadata": {},
   "outputs": [
    {
     "ename": "AttributeError",
     "evalue": "'SparkSession' object has no attribute 'toDF'",
     "output_type": "error",
     "traceback": [
      "\u001b[0;31m---------------------------------------------------------------------------\u001b[0m",
      "\u001b[0;31mAttributeError\u001b[0m                            Traceback (most recent call last)",
      "\u001b[0;32m<ipython-input-11-1519baa35868>\u001b[0m in \u001b[0;36m<module>\u001b[0;34m()\u001b[0m\n\u001b[0;32m----> 1\u001b[0;31m \u001b[0mspark\u001b[0m\u001b[0;34m.\u001b[0m\u001b[0mtoDF\u001b[0m\u001b[0;34m(\u001b[0m\u001b[0mresult\u001b[0m\u001b[0;34m.\u001b[0m\u001b[0mrdd\u001b[0m\u001b[0;34m)\u001b[0m\u001b[0;34m\u001b[0m\u001b[0m\n\u001b[0m",
      "\u001b[0;31mAttributeError\u001b[0m: 'SparkSession' object has no attribute 'toDF'"
     ]
    }
   ],
   "source": [
    "toDF(result.rdd)"
   ]
  }
 ],
 "metadata": {
  "kernelspec": {
   "display_name": "Python 3",
   "language": "python",
   "name": "python3"
  },
  "language_info": {
   "codemirror_mode": {
    "name": "ipython",
    "version": 3
   },
   "file_extension": ".py",
   "mimetype": "text/x-python",
   "name": "python",
   "nbconvert_exporter": "python",
   "pygments_lexer": "ipython3",
   "version": "3.6.2"
  }
 },
 "nbformat": 4,
 "nbformat_minor": 2
}
